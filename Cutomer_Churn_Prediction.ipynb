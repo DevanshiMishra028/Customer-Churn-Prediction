{
  "nbformat": 4,
  "nbformat_minor": 0,
  "metadata": {
    "colab": {
      "name": "Cutomer Churn Prediction.ipynb",
      "provenance": [],
      "collapsed_sections": []
    },
    "kernelspec": {
      "name": "python3",
      "display_name": "Python 3"
    },
    "accelerator": "GPU"
  },
  "cells": [
    {
      "cell_type": "code",
      "metadata": {
        "id": "bR_K62rjqL_Y"
      },
      "source": [
        "import tensorflow as tf\r\n",
        "import pandas as pd\r\n",
        "import numpy as np\r\n",
        "import matplotlib.pyplot as plt"
      ],
      "execution_count": null,
      "outputs": []
    },
    {
      "cell_type": "code",
      "metadata": {
        "id": "5peWvDlBqo9R"
      },
      "source": [
        "dataset=pd.read_csv(\"/content/Churn_Modelling.csv\")"
      ],
      "execution_count": null,
      "outputs": []
    },
    {
      "cell_type": "code",
      "metadata": {
        "colab": {
          "base_uri": "https://localhost:8080/",
          "height": 204
        },
        "id": "8_JGCYF0rZIY",
        "outputId": "ac8a80db-5a4a-4991-e7f8-d64995f154b9"
      },
      "source": [
        "dataset.head()"
      ],
      "execution_count": null,
      "outputs": [
        {
          "output_type": "execute_result",
          "data": {
            "text/html": [
              "<div>\n",
              "<style scoped>\n",
              "    .dataframe tbody tr th:only-of-type {\n",
              "        vertical-align: middle;\n",
              "    }\n",
              "\n",
              "    .dataframe tbody tr th {\n",
              "        vertical-align: top;\n",
              "    }\n",
              "\n",
              "    .dataframe thead th {\n",
              "        text-align: right;\n",
              "    }\n",
              "</style>\n",
              "<table border=\"1\" class=\"dataframe\">\n",
              "  <thead>\n",
              "    <tr style=\"text-align: right;\">\n",
              "      <th></th>\n",
              "      <th>RowNumber</th>\n",
              "      <th>CustomerId</th>\n",
              "      <th>Surname</th>\n",
              "      <th>CreditScore</th>\n",
              "      <th>Geography</th>\n",
              "      <th>Gender</th>\n",
              "      <th>Age</th>\n",
              "      <th>Tenure</th>\n",
              "      <th>Balance</th>\n",
              "      <th>NumOfProducts</th>\n",
              "      <th>HasCrCard</th>\n",
              "      <th>IsActiveMember</th>\n",
              "      <th>EstimatedSalary</th>\n",
              "      <th>Exited</th>\n",
              "    </tr>\n",
              "  </thead>\n",
              "  <tbody>\n",
              "    <tr>\n",
              "      <th>0</th>\n",
              "      <td>1</td>\n",
              "      <td>15634602</td>\n",
              "      <td>Hargrave</td>\n",
              "      <td>619</td>\n",
              "      <td>France</td>\n",
              "      <td>Female</td>\n",
              "      <td>42</td>\n",
              "      <td>2</td>\n",
              "      <td>0.00</td>\n",
              "      <td>1</td>\n",
              "      <td>1</td>\n",
              "      <td>1</td>\n",
              "      <td>101348.88</td>\n",
              "      <td>1</td>\n",
              "    </tr>\n",
              "    <tr>\n",
              "      <th>1</th>\n",
              "      <td>2</td>\n",
              "      <td>15647311</td>\n",
              "      <td>Hill</td>\n",
              "      <td>608</td>\n",
              "      <td>Spain</td>\n",
              "      <td>Female</td>\n",
              "      <td>41</td>\n",
              "      <td>1</td>\n",
              "      <td>83807.86</td>\n",
              "      <td>1</td>\n",
              "      <td>0</td>\n",
              "      <td>1</td>\n",
              "      <td>112542.58</td>\n",
              "      <td>0</td>\n",
              "    </tr>\n",
              "    <tr>\n",
              "      <th>2</th>\n",
              "      <td>3</td>\n",
              "      <td>15619304</td>\n",
              "      <td>Onio</td>\n",
              "      <td>502</td>\n",
              "      <td>France</td>\n",
              "      <td>Female</td>\n",
              "      <td>42</td>\n",
              "      <td>8</td>\n",
              "      <td>159660.80</td>\n",
              "      <td>3</td>\n",
              "      <td>1</td>\n",
              "      <td>0</td>\n",
              "      <td>113931.57</td>\n",
              "      <td>1</td>\n",
              "    </tr>\n",
              "    <tr>\n",
              "      <th>3</th>\n",
              "      <td>4</td>\n",
              "      <td>15701354</td>\n",
              "      <td>Boni</td>\n",
              "      <td>699</td>\n",
              "      <td>France</td>\n",
              "      <td>Female</td>\n",
              "      <td>39</td>\n",
              "      <td>1</td>\n",
              "      <td>0.00</td>\n",
              "      <td>2</td>\n",
              "      <td>0</td>\n",
              "      <td>0</td>\n",
              "      <td>93826.63</td>\n",
              "      <td>0</td>\n",
              "    </tr>\n",
              "    <tr>\n",
              "      <th>4</th>\n",
              "      <td>5</td>\n",
              "      <td>15737888</td>\n",
              "      <td>Mitchell</td>\n",
              "      <td>850</td>\n",
              "      <td>Spain</td>\n",
              "      <td>Female</td>\n",
              "      <td>43</td>\n",
              "      <td>2</td>\n",
              "      <td>125510.82</td>\n",
              "      <td>1</td>\n",
              "      <td>1</td>\n",
              "      <td>1</td>\n",
              "      <td>79084.10</td>\n",
              "      <td>0</td>\n",
              "    </tr>\n",
              "  </tbody>\n",
              "</table>\n",
              "</div>"
            ],
            "text/plain": [
              "   RowNumber  CustomerId   Surname  ...  IsActiveMember EstimatedSalary Exited\n",
              "0          1    15634602  Hargrave  ...               1       101348.88      1\n",
              "1          2    15647311      Hill  ...               1       112542.58      0\n",
              "2          3    15619304      Onio  ...               0       113931.57      1\n",
              "3          4    15701354      Boni  ...               0        93826.63      0\n",
              "4          5    15737888  Mitchell  ...               1        79084.10      0\n",
              "\n",
              "[5 rows x 14 columns]"
            ]
          },
          "metadata": {
            "tags": []
          },
          "execution_count": 3
        }
      ]
    },
    {
      "cell_type": "code",
      "metadata": {
        "id": "PLVLwWostZtY"
      },
      "source": [
        "x=dataset.iloc[:,3:13]\r\n",
        "y=dataset.iloc[:,13]"
      ],
      "execution_count": null,
      "outputs": []
    },
    {
      "cell_type": "code",
      "metadata": {
        "colab": {
          "base_uri": "https://localhost:8080/",
          "height": 204
        },
        "id": "A7nSvixJtsJ4",
        "outputId": "9092ce15-343c-4fac-d62c-227478656d08"
      },
      "source": [
        "x.head()"
      ],
      "execution_count": null,
      "outputs": [
        {
          "output_type": "execute_result",
          "data": {
            "text/html": [
              "<div>\n",
              "<style scoped>\n",
              "    .dataframe tbody tr th:only-of-type {\n",
              "        vertical-align: middle;\n",
              "    }\n",
              "\n",
              "    .dataframe tbody tr th {\n",
              "        vertical-align: top;\n",
              "    }\n",
              "\n",
              "    .dataframe thead th {\n",
              "        text-align: right;\n",
              "    }\n",
              "</style>\n",
              "<table border=\"1\" class=\"dataframe\">\n",
              "  <thead>\n",
              "    <tr style=\"text-align: right;\">\n",
              "      <th></th>\n",
              "      <th>CreditScore</th>\n",
              "      <th>Geography</th>\n",
              "      <th>Gender</th>\n",
              "      <th>Age</th>\n",
              "      <th>Tenure</th>\n",
              "      <th>Balance</th>\n",
              "      <th>NumOfProducts</th>\n",
              "      <th>HasCrCard</th>\n",
              "      <th>IsActiveMember</th>\n",
              "      <th>EstimatedSalary</th>\n",
              "    </tr>\n",
              "  </thead>\n",
              "  <tbody>\n",
              "    <tr>\n",
              "      <th>0</th>\n",
              "      <td>619</td>\n",
              "      <td>France</td>\n",
              "      <td>Female</td>\n",
              "      <td>42</td>\n",
              "      <td>2</td>\n",
              "      <td>0.00</td>\n",
              "      <td>1</td>\n",
              "      <td>1</td>\n",
              "      <td>1</td>\n",
              "      <td>101348.88</td>\n",
              "    </tr>\n",
              "    <tr>\n",
              "      <th>1</th>\n",
              "      <td>608</td>\n",
              "      <td>Spain</td>\n",
              "      <td>Female</td>\n",
              "      <td>41</td>\n",
              "      <td>1</td>\n",
              "      <td>83807.86</td>\n",
              "      <td>1</td>\n",
              "      <td>0</td>\n",
              "      <td>1</td>\n",
              "      <td>112542.58</td>\n",
              "    </tr>\n",
              "    <tr>\n",
              "      <th>2</th>\n",
              "      <td>502</td>\n",
              "      <td>France</td>\n",
              "      <td>Female</td>\n",
              "      <td>42</td>\n",
              "      <td>8</td>\n",
              "      <td>159660.80</td>\n",
              "      <td>3</td>\n",
              "      <td>1</td>\n",
              "      <td>0</td>\n",
              "      <td>113931.57</td>\n",
              "    </tr>\n",
              "    <tr>\n",
              "      <th>3</th>\n",
              "      <td>699</td>\n",
              "      <td>France</td>\n",
              "      <td>Female</td>\n",
              "      <td>39</td>\n",
              "      <td>1</td>\n",
              "      <td>0.00</td>\n",
              "      <td>2</td>\n",
              "      <td>0</td>\n",
              "      <td>0</td>\n",
              "      <td>93826.63</td>\n",
              "    </tr>\n",
              "    <tr>\n",
              "      <th>4</th>\n",
              "      <td>850</td>\n",
              "      <td>Spain</td>\n",
              "      <td>Female</td>\n",
              "      <td>43</td>\n",
              "      <td>2</td>\n",
              "      <td>125510.82</td>\n",
              "      <td>1</td>\n",
              "      <td>1</td>\n",
              "      <td>1</td>\n",
              "      <td>79084.10</td>\n",
              "    </tr>\n",
              "  </tbody>\n",
              "</table>\n",
              "</div>"
            ],
            "text/plain": [
              "   CreditScore Geography  Gender  ...  HasCrCard  IsActiveMember  EstimatedSalary\n",
              "0          619    France  Female  ...          1               1        101348.88\n",
              "1          608     Spain  Female  ...          0               1        112542.58\n",
              "2          502    France  Female  ...          1               0        113931.57\n",
              "3          699    France  Female  ...          0               0         93826.63\n",
              "4          850     Spain  Female  ...          1               1         79084.10\n",
              "\n",
              "[5 rows x 10 columns]"
            ]
          },
          "metadata": {
            "tags": []
          },
          "execution_count": 5
        }
      ]
    },
    {
      "cell_type": "code",
      "metadata": {
        "colab": {
          "base_uri": "https://localhost:8080/"
        },
        "id": "XlfaugZ1tui6",
        "outputId": "eb7a6599-70d8-4e0e-efa2-50e4006f0705"
      },
      "source": [
        "y.head()"
      ],
      "execution_count": null,
      "outputs": [
        {
          "output_type": "execute_result",
          "data": {
            "text/plain": [
              "0    1\n",
              "1    0\n",
              "2    1\n",
              "3    0\n",
              "4    0\n",
              "Name: Exited, dtype: int64"
            ]
          },
          "metadata": {
            "tags": []
          },
          "execution_count": 6
        }
      ]
    },
    {
      "cell_type": "code",
      "metadata": {
        "colab": {
          "base_uri": "https://localhost:8080/",
          "height": 419
        },
        "id": "I5f2a1QG-Sqp",
        "outputId": "809c8403-1063-403d-d571-9eff3e1edf41"
      },
      "source": [
        "geography=pd.get_dummies(x[\"Geography\"],drop_first=True)\r\n",
        "gender=pd.get_dummies(x[\"Gender\"],drop_first=True)\r\n",
        "geography"
      ],
      "execution_count": null,
      "outputs": [
        {
          "output_type": "execute_result",
          "data": {
            "text/html": [
              "<div>\n",
              "<style scoped>\n",
              "    .dataframe tbody tr th:only-of-type {\n",
              "        vertical-align: middle;\n",
              "    }\n",
              "\n",
              "    .dataframe tbody tr th {\n",
              "        vertical-align: top;\n",
              "    }\n",
              "\n",
              "    .dataframe thead th {\n",
              "        text-align: right;\n",
              "    }\n",
              "</style>\n",
              "<table border=\"1\" class=\"dataframe\">\n",
              "  <thead>\n",
              "    <tr style=\"text-align: right;\">\n",
              "      <th></th>\n",
              "      <th>Germany</th>\n",
              "      <th>Spain</th>\n",
              "    </tr>\n",
              "  </thead>\n",
              "  <tbody>\n",
              "    <tr>\n",
              "      <th>0</th>\n",
              "      <td>0</td>\n",
              "      <td>0</td>\n",
              "    </tr>\n",
              "    <tr>\n",
              "      <th>1</th>\n",
              "      <td>0</td>\n",
              "      <td>1</td>\n",
              "    </tr>\n",
              "    <tr>\n",
              "      <th>2</th>\n",
              "      <td>0</td>\n",
              "      <td>0</td>\n",
              "    </tr>\n",
              "    <tr>\n",
              "      <th>3</th>\n",
              "      <td>0</td>\n",
              "      <td>0</td>\n",
              "    </tr>\n",
              "    <tr>\n",
              "      <th>4</th>\n",
              "      <td>0</td>\n",
              "      <td>1</td>\n",
              "    </tr>\n",
              "    <tr>\n",
              "      <th>...</th>\n",
              "      <td>...</td>\n",
              "      <td>...</td>\n",
              "    </tr>\n",
              "    <tr>\n",
              "      <th>9995</th>\n",
              "      <td>0</td>\n",
              "      <td>0</td>\n",
              "    </tr>\n",
              "    <tr>\n",
              "      <th>9996</th>\n",
              "      <td>0</td>\n",
              "      <td>0</td>\n",
              "    </tr>\n",
              "    <tr>\n",
              "      <th>9997</th>\n",
              "      <td>0</td>\n",
              "      <td>0</td>\n",
              "    </tr>\n",
              "    <tr>\n",
              "      <th>9998</th>\n",
              "      <td>1</td>\n",
              "      <td>0</td>\n",
              "    </tr>\n",
              "    <tr>\n",
              "      <th>9999</th>\n",
              "      <td>0</td>\n",
              "      <td>0</td>\n",
              "    </tr>\n",
              "  </tbody>\n",
              "</table>\n",
              "<p>10000 rows × 2 columns</p>\n",
              "</div>"
            ],
            "text/plain": [
              "      Germany  Spain\n",
              "0           0      0\n",
              "1           0      1\n",
              "2           0      0\n",
              "3           0      0\n",
              "4           0      1\n",
              "...       ...    ...\n",
              "9995        0      0\n",
              "9996        0      0\n",
              "9997        0      0\n",
              "9998        1      0\n",
              "9999        0      0\n",
              "\n",
              "[10000 rows x 2 columns]"
            ]
          },
          "metadata": {
            "tags": []
          },
          "execution_count": 7
        }
      ]
    },
    {
      "cell_type": "code",
      "metadata": {
        "colab": {
          "base_uri": "https://localhost:8080/",
          "height": 204
        },
        "id": "08rDnIFM_Mo4",
        "outputId": "bab59b42-0b0a-4ebc-dbad-b201a53dd192"
      },
      "source": [
        "gender.head()"
      ],
      "execution_count": null,
      "outputs": [
        {
          "output_type": "execute_result",
          "data": {
            "text/html": [
              "<div>\n",
              "<style scoped>\n",
              "    .dataframe tbody tr th:only-of-type {\n",
              "        vertical-align: middle;\n",
              "    }\n",
              "\n",
              "    .dataframe tbody tr th {\n",
              "        vertical-align: top;\n",
              "    }\n",
              "\n",
              "    .dataframe thead th {\n",
              "        text-align: right;\n",
              "    }\n",
              "</style>\n",
              "<table border=\"1\" class=\"dataframe\">\n",
              "  <thead>\n",
              "    <tr style=\"text-align: right;\">\n",
              "      <th></th>\n",
              "      <th>Male</th>\n",
              "    </tr>\n",
              "  </thead>\n",
              "  <tbody>\n",
              "    <tr>\n",
              "      <th>0</th>\n",
              "      <td>0</td>\n",
              "    </tr>\n",
              "    <tr>\n",
              "      <th>1</th>\n",
              "      <td>0</td>\n",
              "    </tr>\n",
              "    <tr>\n",
              "      <th>2</th>\n",
              "      <td>0</td>\n",
              "    </tr>\n",
              "    <tr>\n",
              "      <th>3</th>\n",
              "      <td>0</td>\n",
              "    </tr>\n",
              "    <tr>\n",
              "      <th>4</th>\n",
              "      <td>0</td>\n",
              "    </tr>\n",
              "  </tbody>\n",
              "</table>\n",
              "</div>"
            ],
            "text/plain": [
              "   Male\n",
              "0     0\n",
              "1     0\n",
              "2     0\n",
              "3     0\n",
              "4     0"
            ]
          },
          "metadata": {
            "tags": []
          },
          "execution_count": 8
        }
      ]
    },
    {
      "cell_type": "code",
      "metadata": {
        "id": "LoArjmyx_Y7g"
      },
      "source": [
        "x=pd.concat([x,geography,gender],axis=1)\r\n",
        "x=x.drop([\"Geography\",\"Gender\"],axis=1)"
      ],
      "execution_count": null,
      "outputs": []
    },
    {
      "cell_type": "code",
      "metadata": {
        "colab": {
          "base_uri": "https://localhost:8080/",
          "height": 204
        },
        "id": "Lg3ktvEr_ykH",
        "outputId": "475d2652-ab52-4f9f-95fd-858082d9c38c"
      },
      "source": [
        "x.head()"
      ],
      "execution_count": null,
      "outputs": [
        {
          "output_type": "execute_result",
          "data": {
            "text/html": [
              "<div>\n",
              "<style scoped>\n",
              "    .dataframe tbody tr th:only-of-type {\n",
              "        vertical-align: middle;\n",
              "    }\n",
              "\n",
              "    .dataframe tbody tr th {\n",
              "        vertical-align: top;\n",
              "    }\n",
              "\n",
              "    .dataframe thead th {\n",
              "        text-align: right;\n",
              "    }\n",
              "</style>\n",
              "<table border=\"1\" class=\"dataframe\">\n",
              "  <thead>\n",
              "    <tr style=\"text-align: right;\">\n",
              "      <th></th>\n",
              "      <th>CreditScore</th>\n",
              "      <th>Age</th>\n",
              "      <th>Tenure</th>\n",
              "      <th>Balance</th>\n",
              "      <th>NumOfProducts</th>\n",
              "      <th>HasCrCard</th>\n",
              "      <th>IsActiveMember</th>\n",
              "      <th>EstimatedSalary</th>\n",
              "      <th>Germany</th>\n",
              "      <th>Spain</th>\n",
              "      <th>Male</th>\n",
              "    </tr>\n",
              "  </thead>\n",
              "  <tbody>\n",
              "    <tr>\n",
              "      <th>0</th>\n",
              "      <td>619</td>\n",
              "      <td>42</td>\n",
              "      <td>2</td>\n",
              "      <td>0.00</td>\n",
              "      <td>1</td>\n",
              "      <td>1</td>\n",
              "      <td>1</td>\n",
              "      <td>101348.88</td>\n",
              "      <td>0</td>\n",
              "      <td>0</td>\n",
              "      <td>0</td>\n",
              "    </tr>\n",
              "    <tr>\n",
              "      <th>1</th>\n",
              "      <td>608</td>\n",
              "      <td>41</td>\n",
              "      <td>1</td>\n",
              "      <td>83807.86</td>\n",
              "      <td>1</td>\n",
              "      <td>0</td>\n",
              "      <td>1</td>\n",
              "      <td>112542.58</td>\n",
              "      <td>0</td>\n",
              "      <td>1</td>\n",
              "      <td>0</td>\n",
              "    </tr>\n",
              "    <tr>\n",
              "      <th>2</th>\n",
              "      <td>502</td>\n",
              "      <td>42</td>\n",
              "      <td>8</td>\n",
              "      <td>159660.80</td>\n",
              "      <td>3</td>\n",
              "      <td>1</td>\n",
              "      <td>0</td>\n",
              "      <td>113931.57</td>\n",
              "      <td>0</td>\n",
              "      <td>0</td>\n",
              "      <td>0</td>\n",
              "    </tr>\n",
              "    <tr>\n",
              "      <th>3</th>\n",
              "      <td>699</td>\n",
              "      <td>39</td>\n",
              "      <td>1</td>\n",
              "      <td>0.00</td>\n",
              "      <td>2</td>\n",
              "      <td>0</td>\n",
              "      <td>0</td>\n",
              "      <td>93826.63</td>\n",
              "      <td>0</td>\n",
              "      <td>0</td>\n",
              "      <td>0</td>\n",
              "    </tr>\n",
              "    <tr>\n",
              "      <th>4</th>\n",
              "      <td>850</td>\n",
              "      <td>43</td>\n",
              "      <td>2</td>\n",
              "      <td>125510.82</td>\n",
              "      <td>1</td>\n",
              "      <td>1</td>\n",
              "      <td>1</td>\n",
              "      <td>79084.10</td>\n",
              "      <td>0</td>\n",
              "      <td>1</td>\n",
              "      <td>0</td>\n",
              "    </tr>\n",
              "  </tbody>\n",
              "</table>\n",
              "</div>"
            ],
            "text/plain": [
              "   CreditScore  Age  Tenure    Balance  ...  EstimatedSalary  Germany  Spain  Male\n",
              "0          619   42       2       0.00  ...        101348.88        0      0     0\n",
              "1          608   41       1   83807.86  ...        112542.58        0      1     0\n",
              "2          502   42       8  159660.80  ...        113931.57        0      0     0\n",
              "3          699   39       1       0.00  ...         93826.63        0      0     0\n",
              "4          850   43       2  125510.82  ...         79084.10        0      1     0\n",
              "\n",
              "[5 rows x 11 columns]"
            ]
          },
          "metadata": {
            "tags": []
          },
          "execution_count": 10
        }
      ]
    },
    {
      "cell_type": "code",
      "metadata": {
        "id": "g61aiRMCtwU7"
      },
      "source": [
        "from sklearn.model_selection import train_test_split\r\n",
        "x_train_full,x_test,y_train_full,y_test=train_test_split(x,y,test_size=0.2,random_state=42)\r\n",
        "x_train,x_valid,y_train,y_valid=train_test_split(x_train_full,y_train_full,train_size=0.8,random_state=42)"
      ],
      "execution_count": null,
      "outputs": []
    },
    {
      "cell_type": "markdown",
      "metadata": {
        "id": "Du80srccEyGn"
      },
      "source": [
        "## checking missing values"
      ]
    },
    {
      "cell_type": "code",
      "metadata": {
        "colab": {
          "base_uri": "https://localhost:8080/"
        },
        "id": "D5O6jmNFueOi",
        "outputId": "92518710-3cfd-4dc2-9b3a-5005ba6a89f0"
      },
      "source": [
        "x_train.isnull().sum()\r\n"
      ],
      "execution_count": null,
      "outputs": [
        {
          "output_type": "execute_result",
          "data": {
            "text/plain": [
              "CreditScore        0\n",
              "Age                0\n",
              "Tenure             0\n",
              "Balance            0\n",
              "NumOfProducts      0\n",
              "HasCrCard          0\n",
              "IsActiveMember     0\n",
              "EstimatedSalary    0\n",
              "Germany            0\n",
              "Spain              0\n",
              "Male               0\n",
              "dtype: int64"
            ]
          },
          "metadata": {
            "tags": []
          },
          "execution_count": 12
        }
      ]
    },
    {
      "cell_type": "markdown",
      "metadata": {
        "id": "BsBkp9grEoGr"
      },
      "source": [
        "## Standard Scaling"
      ]
    },
    {
      "cell_type": "code",
      "metadata": {
        "id": "xqJcRDEpxmUD"
      },
      "source": [
        "from sklearn.preprocessing import StandardScaler\r\n",
        "scaler=StandardScaler()\r\n",
        "x_train=scaler.fit_transform(x_train)\r\n",
        "x_valid=scaler.transform(x_valid)\r\n",
        "x_test=scaler.transform(x_test)"
      ],
      "execution_count": null,
      "outputs": []
    },
    {
      "cell_type": "code",
      "metadata": {
        "colab": {
          "base_uri": "https://localhost:8080/"
        },
        "id": "S7eqwEgRKPOc",
        "outputId": "5d1eeac0-0bb3-4f48-ac60-cba503a41fc8"
      },
      "source": [
        "!pip install keras-tuner"
      ],
      "execution_count": null,
      "outputs": [
        {
          "output_type": "stream",
          "text": [
            "Requirement already satisfied: keras-tuner in /usr/local/lib/python3.6/dist-packages (1.0.2)\n",
            "Requirement already satisfied: future in /usr/local/lib/python3.6/dist-packages (from keras-tuner) (0.16.0)\n",
            "Requirement already satisfied: tqdm in /usr/local/lib/python3.6/dist-packages (from keras-tuner) (4.41.1)\n",
            "Requirement already satisfied: tabulate in /usr/local/lib/python3.6/dist-packages (from keras-tuner) (0.8.7)\n",
            "Requirement already satisfied: colorama in /usr/local/lib/python3.6/dist-packages (from keras-tuner) (0.4.4)\n",
            "Requirement already satisfied: scikit-learn in /usr/local/lib/python3.6/dist-packages (from keras-tuner) (0.22.2.post1)\n",
            "Requirement already satisfied: terminaltables in /usr/local/lib/python3.6/dist-packages (from keras-tuner) (3.1.0)\n",
            "Requirement already satisfied: requests in /usr/local/lib/python3.6/dist-packages (from keras-tuner) (2.23.0)\n",
            "Requirement already satisfied: packaging in /usr/local/lib/python3.6/dist-packages (from keras-tuner) (20.7)\n",
            "Requirement already satisfied: scipy in /usr/local/lib/python3.6/dist-packages (from keras-tuner) (1.4.1)\n",
            "Requirement already satisfied: numpy in /usr/local/lib/python3.6/dist-packages (from keras-tuner) (1.18.5)\n",
            "Requirement already satisfied: joblib>=0.11 in /usr/local/lib/python3.6/dist-packages (from scikit-learn->keras-tuner) (0.17.0)\n",
            "Requirement already satisfied: chardet<4,>=3.0.2 in /usr/local/lib/python3.6/dist-packages (from requests->keras-tuner) (3.0.4)\n",
            "Requirement already satisfied: idna<3,>=2.5 in /usr/local/lib/python3.6/dist-packages (from requests->keras-tuner) (2.10)\n",
            "Requirement already satisfied: certifi>=2017.4.17 in /usr/local/lib/python3.6/dist-packages (from requests->keras-tuner) (2020.12.5)\n",
            "Requirement already satisfied: urllib3!=1.25.0,!=1.25.1,<1.26,>=1.21.1 in /usr/local/lib/python3.6/dist-packages (from requests->keras-tuner) (1.24.3)\n",
            "Requirement already satisfied: pyparsing>=2.0.2 in /usr/local/lib/python3.6/dist-packages (from packaging->keras-tuner) (2.4.7)\n"
          ],
          "name": "stdout"
        }
      ]
    },
    {
      "cell_type": "code",
      "metadata": {
        "id": "cR3dWSt5DLfz"
      },
      "source": [
        "import tensorflow.keras\r\n",
        "from tensorflow.keras.models import Sequential \r\n",
        "from tensorflow.keras.layers import Dense\r\n",
        "from tensorflow.keras.layers import Dropout"
      ],
      "execution_count": null,
      "outputs": []
    },
    {
      "cell_type": "code",
      "metadata": {
        "id": "VW7ly2AyMhhx"
      },
      "source": [
        "model=Sequential()\r\n",
        "model.add(Dense(units=10,kernel_initializer='he_uniform',activation='relu',input_dim=11))\r\n",
        "model.add(Dense(units=10,kernel_initializer='he_uniform',activation='relu'))\r\n",
        "model.add(Dense(units=1,kernel_initializer='glorot_uniform',activation='sigmoid'))\r\n",
        "model.compile(loss='binary_crossentropy',optimizer='Adam',metrics=[\"accuracy\"])"
      ],
      "execution_count": null,
      "outputs": []
    },
    {
      "cell_type": "code",
      "metadata": {
        "colab": {
          "base_uri": "https://localhost:8080/"
        },
        "id": "Vp5GNitnbrPm",
        "outputId": "985410e7-a9cd-4248-fa06-f0e2c6bdf704"
      },
      "source": [
        "model.summary()"
      ],
      "execution_count": null,
      "outputs": [
        {
          "output_type": "stream",
          "text": [
            "Model: \"sequential\"\n",
            "_________________________________________________________________\n",
            "Layer (type)                 Output Shape              Param #   \n",
            "=================================================================\n",
            "dense (Dense)                (None, 10)                120       \n",
            "_________________________________________________________________\n",
            "dense_1 (Dense)              (None, 10)                110       \n",
            "_________________________________________________________________\n",
            "dense_2 (Dense)              (None, 1)                 11        \n",
            "=================================================================\n",
            "Total params: 241\n",
            "Trainable params: 241\n",
            "Non-trainable params: 0\n",
            "_________________________________________________________________\n"
          ],
          "name": "stdout"
        }
      ]
    },
    {
      "cell_type": "code",
      "metadata": {
        "colab": {
          "base_uri": "https://localhost:8080/"
        },
        "id": "-Hf3wNltcBka",
        "outputId": "85faa251-0f80-4ae0-9ae1-086278692540"
      },
      "source": [
        "history=model.fit(x_train,y_train,epochs=100,validation_data=(x_valid,y_valid))"
      ],
      "execution_count": null,
      "outputs": [
        {
          "output_type": "stream",
          "text": [
            "Epoch 1/100\n",
            "200/200 [==============================] - 1s 3ms/step - loss: 0.5775 - accuracy: 0.7328 - val_loss: 0.5032 - val_accuracy: 0.7906\n",
            "Epoch 2/100\n",
            "200/200 [==============================] - 0s 2ms/step - loss: 0.4854 - accuracy: 0.7978 - val_loss: 0.4612 - val_accuracy: 0.7944\n",
            "Epoch 3/100\n",
            "200/200 [==============================] - 0s 2ms/step - loss: 0.4577 - accuracy: 0.8081 - val_loss: 0.4417 - val_accuracy: 0.8037\n",
            "Epoch 4/100\n",
            "200/200 [==============================] - 0s 2ms/step - loss: 0.4455 - accuracy: 0.8145 - val_loss: 0.4330 - val_accuracy: 0.8138\n",
            "Epoch 5/100\n",
            "200/200 [==============================] - 0s 2ms/step - loss: 0.4384 - accuracy: 0.8142 - val_loss: 0.4269 - val_accuracy: 0.8144\n",
            "Epoch 6/100\n",
            "200/200 [==============================] - 0s 2ms/step - loss: 0.4335 - accuracy: 0.8173 - val_loss: 0.4239 - val_accuracy: 0.8156\n",
            "Epoch 7/100\n",
            "200/200 [==============================] - 0s 2ms/step - loss: 0.4300 - accuracy: 0.8186 - val_loss: 0.4208 - val_accuracy: 0.8244\n",
            "Epoch 8/100\n",
            "200/200 [==============================] - 0s 2ms/step - loss: 0.4262 - accuracy: 0.8220 - val_loss: 0.4158 - val_accuracy: 0.8231\n",
            "Epoch 9/100\n",
            "200/200 [==============================] - 0s 2ms/step - loss: 0.4225 - accuracy: 0.8241 - val_loss: 0.4124 - val_accuracy: 0.8256\n",
            "Epoch 10/100\n",
            "200/200 [==============================] - 0s 2ms/step - loss: 0.4184 - accuracy: 0.8273 - val_loss: 0.4079 - val_accuracy: 0.8263\n",
            "Epoch 11/100\n",
            "200/200 [==============================] - 0s 2ms/step - loss: 0.4135 - accuracy: 0.8298 - val_loss: 0.4019 - val_accuracy: 0.8350\n",
            "Epoch 12/100\n",
            "200/200 [==============================] - 0s 2ms/step - loss: 0.4074 - accuracy: 0.8333 - val_loss: 0.3952 - val_accuracy: 0.8400\n",
            "Epoch 13/100\n",
            "200/200 [==============================] - 0s 2ms/step - loss: 0.4006 - accuracy: 0.8350 - val_loss: 0.3873 - val_accuracy: 0.8487\n",
            "Epoch 14/100\n",
            "200/200 [==============================] - 0s 2ms/step - loss: 0.3925 - accuracy: 0.8402 - val_loss: 0.3787 - val_accuracy: 0.8506\n",
            "Epoch 15/100\n",
            "200/200 [==============================] - 0s 2ms/step - loss: 0.3839 - accuracy: 0.8447 - val_loss: 0.3710 - val_accuracy: 0.8512\n",
            "Epoch 16/100\n",
            "200/200 [==============================] - 0s 2ms/step - loss: 0.3769 - accuracy: 0.8459 - val_loss: 0.3641 - val_accuracy: 0.8562\n",
            "Epoch 17/100\n",
            "200/200 [==============================] - 0s 2ms/step - loss: 0.3706 - accuracy: 0.8487 - val_loss: 0.3596 - val_accuracy: 0.8581\n",
            "Epoch 18/100\n",
            "200/200 [==============================] - 0s 2ms/step - loss: 0.3650 - accuracy: 0.8520 - val_loss: 0.3568 - val_accuracy: 0.8562\n",
            "Epoch 19/100\n",
            "200/200 [==============================] - 0s 2ms/step - loss: 0.3612 - accuracy: 0.8527 - val_loss: 0.3534 - val_accuracy: 0.8575\n",
            "Epoch 20/100\n",
            "200/200 [==============================] - 0s 2ms/step - loss: 0.3579 - accuracy: 0.8525 - val_loss: 0.3506 - val_accuracy: 0.8581\n",
            "Epoch 21/100\n",
            "200/200 [==============================] - 0s 2ms/step - loss: 0.3554 - accuracy: 0.8531 - val_loss: 0.3492 - val_accuracy: 0.8550\n",
            "Epoch 22/100\n",
            "200/200 [==============================] - 0s 2ms/step - loss: 0.3534 - accuracy: 0.8541 - val_loss: 0.3479 - val_accuracy: 0.8581\n",
            "Epoch 23/100\n",
            "200/200 [==============================] - 0s 2ms/step - loss: 0.3513 - accuracy: 0.8545 - val_loss: 0.3477 - val_accuracy: 0.8556\n",
            "Epoch 24/100\n",
            "200/200 [==============================] - 0s 2ms/step - loss: 0.3497 - accuracy: 0.8558 - val_loss: 0.3455 - val_accuracy: 0.8575\n",
            "Epoch 25/100\n",
            "200/200 [==============================] - 0s 2ms/step - loss: 0.3482 - accuracy: 0.8559 - val_loss: 0.3441 - val_accuracy: 0.8556\n",
            "Epoch 26/100\n",
            "200/200 [==============================] - 0s 2ms/step - loss: 0.3472 - accuracy: 0.8559 - val_loss: 0.3436 - val_accuracy: 0.8556\n",
            "Epoch 27/100\n",
            "200/200 [==============================] - 0s 2ms/step - loss: 0.3462 - accuracy: 0.8577 - val_loss: 0.3425 - val_accuracy: 0.8556\n",
            "Epoch 28/100\n",
            "200/200 [==============================] - 0s 2ms/step - loss: 0.3454 - accuracy: 0.8570 - val_loss: 0.3425 - val_accuracy: 0.8550\n",
            "Epoch 29/100\n",
            "200/200 [==============================] - 0s 2ms/step - loss: 0.3446 - accuracy: 0.8583 - val_loss: 0.3413 - val_accuracy: 0.8569\n",
            "Epoch 30/100\n",
            "200/200 [==============================] - 0s 2ms/step - loss: 0.3435 - accuracy: 0.8592 - val_loss: 0.3408 - val_accuracy: 0.8569\n",
            "Epoch 31/100\n",
            "200/200 [==============================] - 0s 2ms/step - loss: 0.3428 - accuracy: 0.8602 - val_loss: 0.3395 - val_accuracy: 0.8587\n",
            "Epoch 32/100\n",
            "200/200 [==============================] - 0s 2ms/step - loss: 0.3422 - accuracy: 0.8592 - val_loss: 0.3402 - val_accuracy: 0.8575\n",
            "Epoch 33/100\n",
            "200/200 [==============================] - 0s 2ms/step - loss: 0.3418 - accuracy: 0.8589 - val_loss: 0.3392 - val_accuracy: 0.8575\n",
            "Epoch 34/100\n",
            "200/200 [==============================] - 0s 2ms/step - loss: 0.3404 - accuracy: 0.8591 - val_loss: 0.3387 - val_accuracy: 0.8575\n",
            "Epoch 35/100\n",
            "200/200 [==============================] - 0s 2ms/step - loss: 0.3400 - accuracy: 0.8608 - val_loss: 0.3380 - val_accuracy: 0.8600\n",
            "Epoch 36/100\n",
            "200/200 [==============================] - 0s 2ms/step - loss: 0.3395 - accuracy: 0.8623 - val_loss: 0.3379 - val_accuracy: 0.8594\n",
            "Epoch 37/100\n",
            "200/200 [==============================] - 0s 2ms/step - loss: 0.3390 - accuracy: 0.8614 - val_loss: 0.3384 - val_accuracy: 0.8562\n",
            "Epoch 38/100\n",
            "200/200 [==============================] - 0s 2ms/step - loss: 0.3382 - accuracy: 0.8598 - val_loss: 0.3376 - val_accuracy: 0.8587\n",
            "Epoch 39/100\n",
            "200/200 [==============================] - 0s 2ms/step - loss: 0.3377 - accuracy: 0.8616 - val_loss: 0.3363 - val_accuracy: 0.8581\n",
            "Epoch 40/100\n",
            "200/200 [==============================] - 0s 2ms/step - loss: 0.3368 - accuracy: 0.8592 - val_loss: 0.3368 - val_accuracy: 0.8581\n",
            "Epoch 41/100\n",
            "200/200 [==============================] - 0s 2ms/step - loss: 0.3364 - accuracy: 0.8631 - val_loss: 0.3357 - val_accuracy: 0.8612\n",
            "Epoch 42/100\n",
            "200/200 [==============================] - 0s 2ms/step - loss: 0.3361 - accuracy: 0.8612 - val_loss: 0.3359 - val_accuracy: 0.8575\n",
            "Epoch 43/100\n",
            "200/200 [==============================] - 0s 2ms/step - loss: 0.3360 - accuracy: 0.8611 - val_loss: 0.3349 - val_accuracy: 0.8600\n",
            "Epoch 44/100\n",
            "200/200 [==============================] - 0s 2ms/step - loss: 0.3349 - accuracy: 0.8611 - val_loss: 0.3347 - val_accuracy: 0.8612\n",
            "Epoch 45/100\n",
            "200/200 [==============================] - 0s 2ms/step - loss: 0.3341 - accuracy: 0.8612 - val_loss: 0.3358 - val_accuracy: 0.8619\n",
            "Epoch 46/100\n",
            "200/200 [==============================] - 0s 2ms/step - loss: 0.3341 - accuracy: 0.8608 - val_loss: 0.3356 - val_accuracy: 0.8594\n",
            "Epoch 47/100\n",
            "200/200 [==============================] - 0s 2ms/step - loss: 0.3331 - accuracy: 0.8616 - val_loss: 0.3351 - val_accuracy: 0.8619\n",
            "Epoch 48/100\n",
            "200/200 [==============================] - 0s 2ms/step - loss: 0.3334 - accuracy: 0.8623 - val_loss: 0.3344 - val_accuracy: 0.8594\n",
            "Epoch 49/100\n",
            "200/200 [==============================] - 0s 2ms/step - loss: 0.3322 - accuracy: 0.8620 - val_loss: 0.3356 - val_accuracy: 0.8625\n",
            "Epoch 50/100\n",
            "200/200 [==============================] - 0s 2ms/step - loss: 0.3320 - accuracy: 0.8623 - val_loss: 0.3341 - val_accuracy: 0.8612\n",
            "Epoch 51/100\n",
            "200/200 [==============================] - 0s 2ms/step - loss: 0.3318 - accuracy: 0.8622 - val_loss: 0.3352 - val_accuracy: 0.8631\n",
            "Epoch 52/100\n",
            "200/200 [==============================] - 0s 2ms/step - loss: 0.3316 - accuracy: 0.8630 - val_loss: 0.3340 - val_accuracy: 0.8625\n",
            "Epoch 53/100\n",
            "200/200 [==============================] - 0s 2ms/step - loss: 0.3309 - accuracy: 0.8633 - val_loss: 0.3340 - val_accuracy: 0.8619\n",
            "Epoch 54/100\n",
            "200/200 [==============================] - 0s 2ms/step - loss: 0.3306 - accuracy: 0.8622 - val_loss: 0.3349 - val_accuracy: 0.8631\n",
            "Epoch 55/100\n",
            "200/200 [==============================] - 0s 2ms/step - loss: 0.3306 - accuracy: 0.8641 - val_loss: 0.3353 - val_accuracy: 0.8631\n",
            "Epoch 56/100\n",
            "200/200 [==============================] - 0s 2ms/step - loss: 0.3305 - accuracy: 0.8623 - val_loss: 0.3336 - val_accuracy: 0.8606\n",
            "Epoch 57/100\n",
            "200/200 [==============================] - 0s 2ms/step - loss: 0.3302 - accuracy: 0.8623 - val_loss: 0.3354 - val_accuracy: 0.8644\n",
            "Epoch 58/100\n",
            "200/200 [==============================] - 0s 2ms/step - loss: 0.3300 - accuracy: 0.8639 - val_loss: 0.3341 - val_accuracy: 0.8587\n",
            "Epoch 59/100\n",
            "200/200 [==============================] - 0s 2ms/step - loss: 0.3292 - accuracy: 0.8637 - val_loss: 0.3354 - val_accuracy: 0.8619\n",
            "Epoch 60/100\n",
            "200/200 [==============================] - 0s 2ms/step - loss: 0.3290 - accuracy: 0.8637 - val_loss: 0.3341 - val_accuracy: 0.8619\n",
            "Epoch 61/100\n",
            "200/200 [==============================] - 0s 2ms/step - loss: 0.3285 - accuracy: 0.8623 - val_loss: 0.3368 - val_accuracy: 0.8606\n",
            "Epoch 62/100\n",
            "200/200 [==============================] - 0s 2ms/step - loss: 0.3289 - accuracy: 0.8652 - val_loss: 0.3347 - val_accuracy: 0.8594\n",
            "Epoch 63/100\n",
            "200/200 [==============================] - 0s 2ms/step - loss: 0.3284 - accuracy: 0.8642 - val_loss: 0.3346 - val_accuracy: 0.8631\n",
            "Epoch 64/100\n",
            "200/200 [==============================] - 0s 2ms/step - loss: 0.3283 - accuracy: 0.8641 - val_loss: 0.3337 - val_accuracy: 0.8625\n",
            "Epoch 65/100\n",
            "200/200 [==============================] - 0s 2ms/step - loss: 0.3280 - accuracy: 0.8648 - val_loss: 0.3345 - val_accuracy: 0.8625\n",
            "Epoch 66/100\n",
            "200/200 [==============================] - 0s 2ms/step - loss: 0.3274 - accuracy: 0.8648 - val_loss: 0.3345 - val_accuracy: 0.8606\n",
            "Epoch 67/100\n",
            "200/200 [==============================] - 0s 2ms/step - loss: 0.3274 - accuracy: 0.8655 - val_loss: 0.3350 - val_accuracy: 0.8606\n",
            "Epoch 68/100\n",
            "200/200 [==============================] - 0s 2ms/step - loss: 0.3270 - accuracy: 0.8653 - val_loss: 0.3348 - val_accuracy: 0.8606\n",
            "Epoch 69/100\n",
            "200/200 [==============================] - 0s 2ms/step - loss: 0.3268 - accuracy: 0.8650 - val_loss: 0.3341 - val_accuracy: 0.8606\n",
            "Epoch 70/100\n",
            "200/200 [==============================] - 0s 2ms/step - loss: 0.3269 - accuracy: 0.8652 - val_loss: 0.3345 - val_accuracy: 0.8606\n",
            "Epoch 71/100\n",
            "200/200 [==============================] - 0s 2ms/step - loss: 0.3262 - accuracy: 0.8652 - val_loss: 0.3344 - val_accuracy: 0.8600\n",
            "Epoch 72/100\n",
            "200/200 [==============================] - 0s 2ms/step - loss: 0.3263 - accuracy: 0.8661 - val_loss: 0.3344 - val_accuracy: 0.8612\n",
            "Epoch 73/100\n",
            "200/200 [==============================] - 0s 2ms/step - loss: 0.3264 - accuracy: 0.8652 - val_loss: 0.3344 - val_accuracy: 0.8625\n",
            "Epoch 74/100\n",
            "200/200 [==============================] - 0s 2ms/step - loss: 0.3260 - accuracy: 0.8652 - val_loss: 0.3357 - val_accuracy: 0.8594\n",
            "Epoch 75/100\n",
            "200/200 [==============================] - 0s 2ms/step - loss: 0.3262 - accuracy: 0.8656 - val_loss: 0.3338 - val_accuracy: 0.8619\n",
            "Epoch 76/100\n",
            "200/200 [==============================] - 0s 2ms/step - loss: 0.3259 - accuracy: 0.8648 - val_loss: 0.3349 - val_accuracy: 0.8625\n",
            "Epoch 77/100\n",
            "200/200 [==============================] - 0s 2ms/step - loss: 0.3251 - accuracy: 0.8653 - val_loss: 0.3362 - val_accuracy: 0.8600\n",
            "Epoch 78/100\n",
            "200/200 [==============================] - 0s 2ms/step - loss: 0.3250 - accuracy: 0.8659 - val_loss: 0.3358 - val_accuracy: 0.8612\n",
            "Epoch 79/100\n",
            "200/200 [==============================] - 0s 2ms/step - loss: 0.3250 - accuracy: 0.8666 - val_loss: 0.3358 - val_accuracy: 0.8625\n",
            "Epoch 80/100\n",
            "200/200 [==============================] - 0s 2ms/step - loss: 0.3248 - accuracy: 0.8675 - val_loss: 0.3352 - val_accuracy: 0.8606\n",
            "Epoch 81/100\n",
            "200/200 [==============================] - 0s 2ms/step - loss: 0.3252 - accuracy: 0.8661 - val_loss: 0.3361 - val_accuracy: 0.8625\n",
            "Epoch 82/100\n",
            "200/200 [==============================] - 0s 2ms/step - loss: 0.3254 - accuracy: 0.8644 - val_loss: 0.3354 - val_accuracy: 0.8600\n",
            "Epoch 83/100\n",
            "200/200 [==============================] - 0s 2ms/step - loss: 0.3250 - accuracy: 0.8650 - val_loss: 0.3356 - val_accuracy: 0.8612\n",
            "Epoch 84/100\n",
            "200/200 [==============================] - 0s 2ms/step - loss: 0.3244 - accuracy: 0.8661 - val_loss: 0.3357 - val_accuracy: 0.8606\n",
            "Epoch 85/100\n",
            "200/200 [==============================] - 0s 2ms/step - loss: 0.3247 - accuracy: 0.8669 - val_loss: 0.3361 - val_accuracy: 0.8619\n",
            "Epoch 86/100\n",
            "200/200 [==============================] - 0s 2ms/step - loss: 0.3246 - accuracy: 0.8667 - val_loss: 0.3357 - val_accuracy: 0.8612\n",
            "Epoch 87/100\n",
            "200/200 [==============================] - 0s 2ms/step - loss: 0.3245 - accuracy: 0.8673 - val_loss: 0.3356 - val_accuracy: 0.8575\n",
            "Epoch 88/100\n",
            "200/200 [==============================] - 0s 2ms/step - loss: 0.3237 - accuracy: 0.8662 - val_loss: 0.3356 - val_accuracy: 0.8562\n",
            "Epoch 89/100\n",
            "200/200 [==============================] - 0s 2ms/step - loss: 0.3238 - accuracy: 0.8653 - val_loss: 0.3349 - val_accuracy: 0.8569\n",
            "Epoch 90/100\n",
            "200/200 [==============================] - 0s 2ms/step - loss: 0.3246 - accuracy: 0.8661 - val_loss: 0.3351 - val_accuracy: 0.8550\n",
            "Epoch 91/100\n",
            "200/200 [==============================] - 0s 2ms/step - loss: 0.3243 - accuracy: 0.8669 - val_loss: 0.3361 - val_accuracy: 0.8569\n",
            "Epoch 92/100\n",
            "200/200 [==============================] - 0s 2ms/step - loss: 0.3236 - accuracy: 0.8670 - val_loss: 0.3351 - val_accuracy: 0.8594\n",
            "Epoch 93/100\n",
            "200/200 [==============================] - 0s 2ms/step - loss: 0.3237 - accuracy: 0.8667 - val_loss: 0.3361 - val_accuracy: 0.8562\n",
            "Epoch 94/100\n",
            "200/200 [==============================] - 0s 2ms/step - loss: 0.3241 - accuracy: 0.8664 - val_loss: 0.3360 - val_accuracy: 0.8587\n",
            "Epoch 95/100\n",
            "200/200 [==============================] - 0s 2ms/step - loss: 0.3235 - accuracy: 0.8669 - val_loss: 0.3356 - val_accuracy: 0.8569\n",
            "Epoch 96/100\n",
            "200/200 [==============================] - 0s 2ms/step - loss: 0.3234 - accuracy: 0.8666 - val_loss: 0.3355 - val_accuracy: 0.8556\n",
            "Epoch 97/100\n",
            "200/200 [==============================] - 0s 2ms/step - loss: 0.3228 - accuracy: 0.8672 - val_loss: 0.3370 - val_accuracy: 0.8569\n",
            "Epoch 98/100\n",
            "200/200 [==============================] - 0s 2ms/step - loss: 0.3233 - accuracy: 0.8667 - val_loss: 0.3362 - val_accuracy: 0.8562\n",
            "Epoch 99/100\n",
            "200/200 [==============================] - 0s 2ms/step - loss: 0.3232 - accuracy: 0.8661 - val_loss: 0.3364 - val_accuracy: 0.8569\n",
            "Epoch 100/100\n",
            "200/200 [==============================] - 0s 2ms/step - loss: 0.3233 - accuracy: 0.8662 - val_loss: 0.3366 - val_accuracy: 0.8587\n"
          ],
          "name": "stdout"
        }
      ]
    },
    {
      "cell_type": "code",
      "metadata": {
        "colab": {
          "base_uri": "https://localhost:8080/",
          "height": 419
        },
        "id": "Wdi6XRRNd8XH",
        "outputId": "b04eec76-1c76-4669-b9b7-0f4e6e2f70e6"
      },
      "source": [
        "pd.DataFrame(history.history)"
      ],
      "execution_count": null,
      "outputs": [
        {
          "output_type": "execute_result",
          "data": {
            "text/html": [
              "<div>\n",
              "<style scoped>\n",
              "    .dataframe tbody tr th:only-of-type {\n",
              "        vertical-align: middle;\n",
              "    }\n",
              "\n",
              "    .dataframe tbody tr th {\n",
              "        vertical-align: top;\n",
              "    }\n",
              "\n",
              "    .dataframe thead th {\n",
              "        text-align: right;\n",
              "    }\n",
              "</style>\n",
              "<table border=\"1\" class=\"dataframe\">\n",
              "  <thead>\n",
              "    <tr style=\"text-align: right;\">\n",
              "      <th></th>\n",
              "      <th>loss</th>\n",
              "      <th>accuracy</th>\n",
              "      <th>val_loss</th>\n",
              "      <th>val_accuracy</th>\n",
              "    </tr>\n",
              "  </thead>\n",
              "  <tbody>\n",
              "    <tr>\n",
              "      <th>0</th>\n",
              "      <td>0.577503</td>\n",
              "      <td>0.732813</td>\n",
              "      <td>0.503184</td>\n",
              "      <td>0.790625</td>\n",
              "    </tr>\n",
              "    <tr>\n",
              "      <th>1</th>\n",
              "      <td>0.485368</td>\n",
              "      <td>0.797813</td>\n",
              "      <td>0.461177</td>\n",
              "      <td>0.794375</td>\n",
              "    </tr>\n",
              "    <tr>\n",
              "      <th>2</th>\n",
              "      <td>0.457686</td>\n",
              "      <td>0.808125</td>\n",
              "      <td>0.441684</td>\n",
              "      <td>0.803750</td>\n",
              "    </tr>\n",
              "    <tr>\n",
              "      <th>3</th>\n",
              "      <td>0.445450</td>\n",
              "      <td>0.814531</td>\n",
              "      <td>0.433020</td>\n",
              "      <td>0.813750</td>\n",
              "    </tr>\n",
              "    <tr>\n",
              "      <th>4</th>\n",
              "      <td>0.438405</td>\n",
              "      <td>0.814219</td>\n",
              "      <td>0.426930</td>\n",
              "      <td>0.814375</td>\n",
              "    </tr>\n",
              "    <tr>\n",
              "      <th>...</th>\n",
              "      <td>...</td>\n",
              "      <td>...</td>\n",
              "      <td>...</td>\n",
              "      <td>...</td>\n",
              "    </tr>\n",
              "    <tr>\n",
              "      <th>95</th>\n",
              "      <td>0.323356</td>\n",
              "      <td>0.866562</td>\n",
              "      <td>0.335496</td>\n",
              "      <td>0.855625</td>\n",
              "    </tr>\n",
              "    <tr>\n",
              "      <th>96</th>\n",
              "      <td>0.322833</td>\n",
              "      <td>0.867188</td>\n",
              "      <td>0.337036</td>\n",
              "      <td>0.856875</td>\n",
              "    </tr>\n",
              "    <tr>\n",
              "      <th>97</th>\n",
              "      <td>0.323273</td>\n",
              "      <td>0.866719</td>\n",
              "      <td>0.336229</td>\n",
              "      <td>0.856250</td>\n",
              "    </tr>\n",
              "    <tr>\n",
              "      <th>98</th>\n",
              "      <td>0.323168</td>\n",
              "      <td>0.866094</td>\n",
              "      <td>0.336447</td>\n",
              "      <td>0.856875</td>\n",
              "    </tr>\n",
              "    <tr>\n",
              "      <th>99</th>\n",
              "      <td>0.323286</td>\n",
              "      <td>0.866250</td>\n",
              "      <td>0.336599</td>\n",
              "      <td>0.858750</td>\n",
              "    </tr>\n",
              "  </tbody>\n",
              "</table>\n",
              "<p>100 rows × 4 columns</p>\n",
              "</div>"
            ],
            "text/plain": [
              "        loss  accuracy  val_loss  val_accuracy\n",
              "0   0.577503  0.732813  0.503184      0.790625\n",
              "1   0.485368  0.797813  0.461177      0.794375\n",
              "2   0.457686  0.808125  0.441684      0.803750\n",
              "3   0.445450  0.814531  0.433020      0.813750\n",
              "4   0.438405  0.814219  0.426930      0.814375\n",
              "..       ...       ...       ...           ...\n",
              "95  0.323356  0.866562  0.335496      0.855625\n",
              "96  0.322833  0.867188  0.337036      0.856875\n",
              "97  0.323273  0.866719  0.336229      0.856250\n",
              "98  0.323168  0.866094  0.336447      0.856875\n",
              "99  0.323286  0.866250  0.336599      0.858750\n",
              "\n",
              "[100 rows x 4 columns]"
            ]
          },
          "metadata": {
            "tags": []
          },
          "execution_count": 19
        }
      ]
    },
    {
      "cell_type": "code",
      "metadata": {
        "colab": {
          "base_uri": "https://localhost:8080/"
        },
        "id": "qP7K72d9mK_h",
        "outputId": "19a65ca1-0553-42ad-de01-449b716141e2"
      },
      "source": [
        "!pip install keras-tuner"
      ],
      "execution_count": null,
      "outputs": [
        {
          "output_type": "stream",
          "text": [
            "Requirement already satisfied: keras-tuner in /usr/local/lib/python3.6/dist-packages (1.0.2)\n",
            "Requirement already satisfied: tqdm in /usr/local/lib/python3.6/dist-packages (from keras-tuner) (4.41.1)\n",
            "Requirement already satisfied: terminaltables in /usr/local/lib/python3.6/dist-packages (from keras-tuner) (3.1.0)\n",
            "Requirement already satisfied: scikit-learn in /usr/local/lib/python3.6/dist-packages (from keras-tuner) (0.22.2.post1)\n",
            "Requirement already satisfied: requests in /usr/local/lib/python3.6/dist-packages (from keras-tuner) (2.23.0)\n",
            "Requirement already satisfied: numpy in /usr/local/lib/python3.6/dist-packages (from keras-tuner) (1.18.5)\n",
            "Requirement already satisfied: scipy in /usr/local/lib/python3.6/dist-packages (from keras-tuner) (1.4.1)\n",
            "Requirement already satisfied: packaging in /usr/local/lib/python3.6/dist-packages (from keras-tuner) (20.7)\n",
            "Requirement already satisfied: tabulate in /usr/local/lib/python3.6/dist-packages (from keras-tuner) (0.8.7)\n",
            "Requirement already satisfied: future in /usr/local/lib/python3.6/dist-packages (from keras-tuner) (0.16.0)\n",
            "Requirement already satisfied: colorama in /usr/local/lib/python3.6/dist-packages (from keras-tuner) (0.4.4)\n",
            "Requirement already satisfied: joblib>=0.11 in /usr/local/lib/python3.6/dist-packages (from scikit-learn->keras-tuner) (0.17.0)\n",
            "Requirement already satisfied: urllib3!=1.25.0,!=1.25.1,<1.26,>=1.21.1 in /usr/local/lib/python3.6/dist-packages (from requests->keras-tuner) (1.24.3)\n",
            "Requirement already satisfied: certifi>=2017.4.17 in /usr/local/lib/python3.6/dist-packages (from requests->keras-tuner) (2020.12.5)\n",
            "Requirement already satisfied: idna<3,>=2.5 in /usr/local/lib/python3.6/dist-packages (from requests->keras-tuner) (2.10)\n",
            "Requirement already satisfied: chardet<4,>=3.0.2 in /usr/local/lib/python3.6/dist-packages (from requests->keras-tuner) (3.0.4)\n",
            "Requirement already satisfied: pyparsing>=2.0.2 in /usr/local/lib/python3.6/dist-packages (from packaging->keras-tuner) (2.4.7)\n"
          ],
          "name": "stdout"
        }
      ]
    },
    {
      "cell_type": "code",
      "metadata": {
        "id": "qEqoWyj_BR_I"
      },
      "source": [
        "def build_model(hp):\r\n",
        "  model=Sequential()\r\n",
        "  for i in range(hp.Int('num_layers',2,20)):\r\n",
        "    model.add(Dense(units=hp.Int('units_'+str(i),min_value=32,max_value=512,step=32),\r\n",
        "                    kernel_initializer='he_uniform',\r\n",
        "                    activation='relu'))\r\n",
        "  model.add(Dense(units=1,kernel_initializer=\"glorot_uniform\",activation='sigmoid'))\r\n",
        "  model.compile(loss='binary_crossentropy',\r\n",
        "                optimizer=keras.optimizers.Adam(hp.Choice('learning_rate',[1e-2,1e-3,1e-4])),\r\n",
        "                metrics=[\"accuracy\"])\r\n",
        "  return model"
      ],
      "execution_count": null,
      "outputs": []
    },
    {
      "cell_type": "code",
      "metadata": {
        "colab": {
          "base_uri": "https://localhost:8080/"
        },
        "id": "2yc3pRSDKA6v",
        "outputId": "1f44d0e6-58b6-44a8-8b91-b8b5dd7ac9c6"
      },
      "source": [
        "from tensorflow import keras\r\n",
        "from tensorflow.keras import layers\r\n",
        "from kerastuner.tuners import RandomSearch\r\n",
        "tuner = RandomSearch(\r\n",
        "    build_model,\r\n",
        "    objective='val_accuracy',\r\n",
        "    max_trials=5,\r\n",
        "    executions_per_trial=3,\r\n",
        "    directory='project1',\r\n",
        "    project_name='Churn')"
      ],
      "execution_count": null,
      "outputs": [
        {
          "output_type": "stream",
          "text": [
            "INFO:tensorflow:Reloading Oracle from existing project project1/Churn/oracle.json\n",
            "INFO:tensorflow:Reloading Tuner from project1/Churn/tuner0.json\n"
          ],
          "name": "stdout"
        }
      ]
    },
    {
      "cell_type": "code",
      "metadata": {
        "colab": {
          "base_uri": "https://localhost:8080/"
        },
        "id": "sQ5uBNK7lg1N",
        "outputId": "ee2f398c-701d-4fe4-a131-ff4b752da3f0"
      },
      "source": [
        "tuner.search_space_summary()"
      ],
      "execution_count": null,
      "outputs": [
        {
          "output_type": "stream",
          "text": [
            "Search space summary\n",
            "Default search space size: 18\n",
            "num_layers (Int)\n",
            "{'default': None, 'conditions': [], 'min_value': 2, 'max_value': 20, 'step': 1, 'sampling': None}\n",
            "units_0 (Int)\n",
            "{'default': None, 'conditions': [], 'min_value': 32, 'max_value': 512, 'step': 32, 'sampling': None}\n",
            "units_1 (Int)\n",
            "{'default': None, 'conditions': [], 'min_value': 32, 'max_value': 512, 'step': 32, 'sampling': None}\n",
            "learning_rate (Choice)\n",
            "{'default': 0.01, 'conditions': [], 'values': [0.01, 0.001, 0.0001], 'ordered': True}\n",
            "units_2 (Int)\n",
            "{'default': None, 'conditions': [], 'min_value': 32, 'max_value': 512, 'step': 32, 'sampling': None}\n",
            "units_3 (Int)\n",
            "{'default': None, 'conditions': [], 'min_value': 32, 'max_value': 512, 'step': 32, 'sampling': None}\n",
            "units_4 (Int)\n",
            "{'default': None, 'conditions': [], 'min_value': 32, 'max_value': 512, 'step': 32, 'sampling': None}\n",
            "units_5 (Int)\n",
            "{'default': None, 'conditions': [], 'min_value': 32, 'max_value': 512, 'step': 32, 'sampling': None}\n",
            "units_6 (Int)\n",
            "{'default': None, 'conditions': [], 'min_value': 32, 'max_value': 512, 'step': 32, 'sampling': None}\n",
            "units_7 (Int)\n",
            "{'default': None, 'conditions': [], 'min_value': 32, 'max_value': 512, 'step': 32, 'sampling': None}\n",
            "units_8 (Int)\n",
            "{'default': None, 'conditions': [], 'min_value': 32, 'max_value': 512, 'step': 32, 'sampling': None}\n",
            "units_9 (Int)\n",
            "{'default': None, 'conditions': [], 'min_value': 32, 'max_value': 512, 'step': 32, 'sampling': None}\n",
            "units_10 (Int)\n",
            "{'default': None, 'conditions': [], 'min_value': 32, 'max_value': 512, 'step': 32, 'sampling': None}\n",
            "units_11 (Int)\n",
            "{'default': None, 'conditions': [], 'min_value': 32, 'max_value': 512, 'step': 32, 'sampling': None}\n",
            "units_12 (Int)\n",
            "{'default': None, 'conditions': [], 'min_value': 32, 'max_value': 512, 'step': 32, 'sampling': None}\n",
            "units_13 (Int)\n",
            "{'default': None, 'conditions': [], 'min_value': 32, 'max_value': 512, 'step': 32, 'sampling': None}\n",
            "units_14 (Int)\n",
            "{'default': None, 'conditions': [], 'min_value': 32, 'max_value': 512, 'step': 32, 'sampling': None}\n",
            "units_15 (Int)\n",
            "{'default': None, 'conditions': [], 'min_value': 32, 'max_value': 512, 'step': 32, 'sampling': None}\n"
          ],
          "name": "stdout"
        }
      ]
    },
    {
      "cell_type": "code",
      "metadata": {
        "colab": {
          "base_uri": "https://localhost:8080/"
        },
        "id": "6ILHW5ZihUwK",
        "outputId": "ff4ff636-0931-4f35-c408-1add2ffd333b"
      },
      "source": [
        "tuner.search(x_train, y_train,\r\n",
        "             epochs=100,\r\n",
        "             validation_data=(x_test, y_test))"
      ],
      "execution_count": null,
      "outputs": [
        {
          "output_type": "stream",
          "text": [
            "INFO:tensorflow:Oracle triggered exit\n"
          ],
          "name": "stdout"
        }
      ]
    },
    {
      "cell_type": "code",
      "metadata": {
        "colab": {
          "base_uri": "https://localhost:8080/"
        },
        "id": "BIdY_9C1kBbF",
        "outputId": "80b5d70b-a63a-45e0-a167-e5224dcb54da"
      },
      "source": [
        "tuner.get_best_hyperparameters()"
      ],
      "execution_count": null,
      "outputs": [
        {
          "output_type": "execute_result",
          "data": {
            "text/plain": [
              "[<kerastuner.engine.hyperparameters.HyperParameters at 0x7f99d03c6278>]"
            ]
          },
          "metadata": {
            "tags": []
          },
          "execution_count": 35
        }
      ]
    },
    {
      "cell_type": "code",
      "metadata": {
        "colab": {
          "base_uri": "https://localhost:8080/"
        },
        "id": "3equN2wLkPPv",
        "outputId": "a9e677f8-3a68-439a-d7b4-a2ae47f72b81"
      },
      "source": [
        "tuner.get_best_models()"
      ],
      "execution_count": null,
      "outputs": [
        {
          "output_type": "execute_result",
          "data": {
            "text/plain": [
              "[<tensorflow.python.keras.engine.sequential.Sequential at 0x7f9a21537860>]"
            ]
          },
          "metadata": {
            "tags": []
          },
          "execution_count": 36
        }
      ]
    },
    {
      "cell_type": "code",
      "metadata": {
        "colab": {
          "base_uri": "https://localhost:8080/"
        },
        "id": "ZL5l5QjqkSjq",
        "outputId": "98f60738-c7d0-4176-c7f2-fdf966d26cda"
      },
      "source": [
        "tuner.results_summary()"
      ],
      "execution_count": null,
      "outputs": [
        {
          "output_type": "stream",
          "text": [
            "Results summary\n",
            "Results in project1/Churn\n",
            "Showing 10 best trials\n",
            "Objective(name='val_accuracy', direction='max')\n",
            "Trial summary\n",
            "Hyperparameters:\n",
            "num_layers: 5\n",
            "units_0: 480\n",
            "units_1: 416\n",
            "learning_rate: 0.0001\n",
            "units_2: 32\n",
            "units_3: 32\n",
            "units_4: 32\n",
            "Score: 0.8585000038146973\n",
            "Trial summary\n",
            "Hyperparameters:\n",
            "num_layers: 5\n",
            "units_0: 352\n",
            "units_1: 352\n",
            "learning_rate: 0.001\n",
            "units_2: 192\n",
            "units_3: 256\n",
            "units_4: 224\n",
            "units_5: 352\n",
            "units_6: 160\n",
            "units_7: 512\n",
            "units_8: 416\n",
            "units_9: 128\n",
            "units_10: 32\n",
            "units_11: 512\n",
            "Score: 0.8581666549046835\n",
            "Trial summary\n",
            "Hyperparameters:\n",
            "num_layers: 16\n",
            "units_0: 224\n",
            "units_1: 416\n",
            "learning_rate: 0.001\n",
            "units_2: 384\n",
            "units_3: 96\n",
            "units_4: 480\n",
            "units_5: 256\n",
            "units_6: 416\n",
            "units_7: 320\n",
            "units_8: 512\n",
            "units_9: 256\n",
            "units_10: 224\n",
            "units_11: 480\n",
            "units_12: 32\n",
            "units_13: 32\n",
            "units_14: 32\n",
            "units_15: 32\n",
            "Score: 0.85616668065389\n",
            "Trial summary\n",
            "Hyperparameters:\n",
            "num_layers: 8\n",
            "units_0: 192\n",
            "units_1: 512\n",
            "learning_rate: 0.0001\n",
            "units_2: 32\n",
            "units_3: 256\n",
            "units_4: 64\n",
            "units_5: 128\n",
            "units_6: 288\n",
            "units_7: 192\n",
            "units_8: 128\n",
            "units_9: 384\n",
            "units_10: 96\n",
            "units_11: 32\n",
            "Score: 0.8551666537920634\n",
            "Trial summary\n",
            "Hyperparameters:\n",
            "num_layers: 12\n",
            "units_0: 256\n",
            "units_1: 416\n",
            "learning_rate: 0.01\n",
            "units_2: 288\n",
            "units_3: 256\n",
            "units_4: 480\n",
            "units_5: 32\n",
            "units_6: 32\n",
            "units_7: 32\n",
            "units_8: 32\n",
            "units_9: 32\n",
            "units_10: 32\n",
            "units_11: 32\n",
            "Score: 0.8514999945958456\n"
          ],
          "name": "stdout"
        }
      ]
    },
    {
      "cell_type": "markdown",
      "metadata": {
        "id": "wUU5NGpSoC76"
      },
      "source": [
        "#### Hence, we get to know that best result is given by 5 hidden layers,with obtained vals of nuerons"
      ]
    },
    {
      "cell_type": "code",
      "metadata": {
        "id": "Osrfx05yo5zr"
      },
      "source": [
        "num_layers: 5\r\n",
        "units_0: 480\r\n",
        "units_1: 416\r\n",
        "learning_rate: 0.0001\r\n",
        "units_2: 32\r\n",
        "units_3: 32\r\n",
        "units_4: 32"
      ],
      "execution_count": null,
      "outputs": []
    },
    {
      "cell_type": "code",
      "metadata": {
        "id": "jNyK1QaOmoru"
      },
      "source": [
        "model=Sequential()\r\n",
        "model.add(Dense(units=480,kernel_initializer='he_uniform',activation='relu',input_dim=11))\r\n",
        "model.add(Dense(units=416,kernel_initializer='he_uniform',activation='relu'))\r\n",
        "model.add(Dense(units=32,kernel_initializer='he_uniform',activation='relu'))\r\n",
        "model.add(Dense(units=32,kernel_initializer='he_uniform',activation='relu'))\r\n",
        "model.add(Dense(units=32,kernel_initializer='he_uniform',activation='relu'))\r\n",
        "model.add(Dense(units=1,kernel_initializer='glorot_uniform',activation='sigmoid'))\r\n",
        "checkpoint_cb = tf.keras.callbacks.ModelCheckpoint(\"my_keras_model.h5\", save_best_only=True)\r\n",
        "model.compile(loss='binary_crossentropy',optimizer=keras.optimizers.Adam(learning_rate=0.0001),metrics=[\"accuracy\"])\r\n",
        "early_stopping_cb = tf.keras.callbacks.EarlyStopping(patience=10,\r\n",
        "                                                  restore_best_weights=True)"
      ],
      "execution_count": null,
      "outputs": []
    },
    {
      "cell_type": "code",
      "metadata": {
        "colab": {
          "base_uri": "https://localhost:8080/"
        },
        "id": "8IF_YEoYppnD",
        "outputId": "75150a86-0e82-48a3-e879-236524f65d01"
      },
      "source": [
        "model.summary()"
      ],
      "execution_count": null,
      "outputs": [
        {
          "output_type": "stream",
          "text": [
            "Model: \"sequential_4\"\n",
            "_________________________________________________________________\n",
            "Layer (type)                 Output Shape              Param #   \n",
            "=================================================================\n",
            "dense_24 (Dense)             (None, 480)               5760      \n",
            "_________________________________________________________________\n",
            "dense_25 (Dense)             (None, 416)               200096    \n",
            "_________________________________________________________________\n",
            "dense_26 (Dense)             (None, 32)                13344     \n",
            "_________________________________________________________________\n",
            "dense_27 (Dense)             (None, 32)                1056      \n",
            "_________________________________________________________________\n",
            "dense_28 (Dense)             (None, 32)                1056      \n",
            "_________________________________________________________________\n",
            "dense_29 (Dense)             (None, 1)                 33        \n",
            "=================================================================\n",
            "Total params: 221,345\n",
            "Trainable params: 221,345\n",
            "Non-trainable params: 0\n",
            "_________________________________________________________________\n"
          ],
          "name": "stdout"
        }
      ]
    },
    {
      "cell_type": "code",
      "metadata": {
        "colab": {
          "base_uri": "https://localhost:8080/"
        },
        "id": "mZgCvJNtptfx",
        "outputId": "a42fe6ef-b8db-4419-a2d1-a2688a98326a"
      },
      "source": [
        "history=model.fit(x_train,y_train,epochs=60,validation_data=(x_valid,y_valid),callbacks=[checkpoint_cb, early_stopping_cb])"
      ],
      "execution_count": null,
      "outputs": [
        {
          "output_type": "stream",
          "text": [
            "Epoch 1/60\n",
            "200/200 [==============================] - 1s 3ms/step - loss: 0.4452 - accuracy: 0.8116 - val_loss: 0.3726 - val_accuracy: 0.8450\n",
            "Epoch 2/60\n",
            "200/200 [==============================] - 1s 3ms/step - loss: 0.3661 - accuracy: 0.8489 - val_loss: 0.3479 - val_accuracy: 0.8569\n",
            "Epoch 3/60\n",
            "200/200 [==============================] - 1s 3ms/step - loss: 0.3419 - accuracy: 0.8620 - val_loss: 0.3442 - val_accuracy: 0.8562\n",
            "Epoch 4/60\n",
            "200/200 [==============================] - 1s 3ms/step - loss: 0.3296 - accuracy: 0.8623 - val_loss: 0.3375 - val_accuracy: 0.8569\n",
            "Epoch 5/60\n",
            "200/200 [==============================] - 1s 3ms/step - loss: 0.3188 - accuracy: 0.8627 - val_loss: 0.3406 - val_accuracy: 0.8581\n",
            "Epoch 6/60\n",
            "200/200 [==============================] - 1s 3ms/step - loss: 0.3082 - accuracy: 0.8714 - val_loss: 0.3370 - val_accuracy: 0.8550\n",
            "Epoch 7/60\n",
            "200/200 [==============================] - 1s 3ms/step - loss: 0.3017 - accuracy: 0.8730 - val_loss: 0.3413 - val_accuracy: 0.8600\n",
            "Epoch 8/60\n",
            "200/200 [==============================] - 1s 3ms/step - loss: 0.2946 - accuracy: 0.8761 - val_loss: 0.3405 - val_accuracy: 0.8525\n",
            "Epoch 9/60\n",
            "200/200 [==============================] - 1s 3ms/step - loss: 0.2874 - accuracy: 0.8784 - val_loss: 0.3397 - val_accuracy: 0.8562\n",
            "Epoch 10/60\n",
            "200/200 [==============================] - 1s 3ms/step - loss: 0.2818 - accuracy: 0.8819 - val_loss: 0.3464 - val_accuracy: 0.8581\n",
            "Epoch 11/60\n",
            "200/200 [==============================] - 1s 3ms/step - loss: 0.2731 - accuracy: 0.8833 - val_loss: 0.3531 - val_accuracy: 0.8525\n",
            "Epoch 12/60\n",
            "200/200 [==============================] - 1s 3ms/step - loss: 0.2686 - accuracy: 0.8838 - val_loss: 0.3501 - val_accuracy: 0.8562\n",
            "Epoch 13/60\n",
            "200/200 [==============================] - 1s 3ms/step - loss: 0.2627 - accuracy: 0.8845 - val_loss: 0.3502 - val_accuracy: 0.8531\n",
            "Epoch 14/60\n",
            "200/200 [==============================] - 1s 3ms/step - loss: 0.2574 - accuracy: 0.8914 - val_loss: 0.3481 - val_accuracy: 0.8544\n",
            "Epoch 15/60\n",
            "200/200 [==============================] - 1s 3ms/step - loss: 0.2478 - accuracy: 0.8938 - val_loss: 0.3660 - val_accuracy: 0.8512\n",
            "Epoch 16/60\n",
            "200/200 [==============================] - 1s 3ms/step - loss: 0.2418 - accuracy: 0.8964 - val_loss: 0.3612 - val_accuracy: 0.8494\n"
          ],
          "name": "stdout"
        }
      ]
    },
    {
      "cell_type": "code",
      "metadata": {
        "colab": {
          "base_uri": "https://localhost:8080/",
          "height": 545
        },
        "id": "IuP3D-eNqk2H",
        "outputId": "91f20d28-bac1-43fc-94a4-e121b15c034c"
      },
      "source": [
        "pd.DataFrame(history.history)"
      ],
      "execution_count": null,
      "outputs": [
        {
          "output_type": "execute_result",
          "data": {
            "text/html": [
              "<div>\n",
              "<style scoped>\n",
              "    .dataframe tbody tr th:only-of-type {\n",
              "        vertical-align: middle;\n",
              "    }\n",
              "\n",
              "    .dataframe tbody tr th {\n",
              "        vertical-align: top;\n",
              "    }\n",
              "\n",
              "    .dataframe thead th {\n",
              "        text-align: right;\n",
              "    }\n",
              "</style>\n",
              "<table border=\"1\" class=\"dataframe\">\n",
              "  <thead>\n",
              "    <tr style=\"text-align: right;\">\n",
              "      <th></th>\n",
              "      <th>loss</th>\n",
              "      <th>accuracy</th>\n",
              "      <th>val_loss</th>\n",
              "      <th>val_accuracy</th>\n",
              "    </tr>\n",
              "  </thead>\n",
              "  <tbody>\n",
              "    <tr>\n",
              "      <th>0</th>\n",
              "      <td>0.445232</td>\n",
              "      <td>0.811562</td>\n",
              "      <td>0.372555</td>\n",
              "      <td>0.845000</td>\n",
              "    </tr>\n",
              "    <tr>\n",
              "      <th>1</th>\n",
              "      <td>0.366056</td>\n",
              "      <td>0.848906</td>\n",
              "      <td>0.347906</td>\n",
              "      <td>0.856875</td>\n",
              "    </tr>\n",
              "    <tr>\n",
              "      <th>2</th>\n",
              "      <td>0.341882</td>\n",
              "      <td>0.862031</td>\n",
              "      <td>0.344188</td>\n",
              "      <td>0.856250</td>\n",
              "    </tr>\n",
              "    <tr>\n",
              "      <th>3</th>\n",
              "      <td>0.329625</td>\n",
              "      <td>0.862344</td>\n",
              "      <td>0.337540</td>\n",
              "      <td>0.856875</td>\n",
              "    </tr>\n",
              "    <tr>\n",
              "      <th>4</th>\n",
              "      <td>0.318849</td>\n",
              "      <td>0.862656</td>\n",
              "      <td>0.340587</td>\n",
              "      <td>0.858125</td>\n",
              "    </tr>\n",
              "    <tr>\n",
              "      <th>5</th>\n",
              "      <td>0.308229</td>\n",
              "      <td>0.871406</td>\n",
              "      <td>0.337042</td>\n",
              "      <td>0.855000</td>\n",
              "    </tr>\n",
              "    <tr>\n",
              "      <th>6</th>\n",
              "      <td>0.301686</td>\n",
              "      <td>0.872969</td>\n",
              "      <td>0.341265</td>\n",
              "      <td>0.860000</td>\n",
              "    </tr>\n",
              "    <tr>\n",
              "      <th>7</th>\n",
              "      <td>0.294625</td>\n",
              "      <td>0.876094</td>\n",
              "      <td>0.340530</td>\n",
              "      <td>0.852500</td>\n",
              "    </tr>\n",
              "    <tr>\n",
              "      <th>8</th>\n",
              "      <td>0.287412</td>\n",
              "      <td>0.878438</td>\n",
              "      <td>0.339676</td>\n",
              "      <td>0.856250</td>\n",
              "    </tr>\n",
              "    <tr>\n",
              "      <th>9</th>\n",
              "      <td>0.281809</td>\n",
              "      <td>0.881875</td>\n",
              "      <td>0.346361</td>\n",
              "      <td>0.858125</td>\n",
              "    </tr>\n",
              "    <tr>\n",
              "      <th>10</th>\n",
              "      <td>0.273101</td>\n",
              "      <td>0.883281</td>\n",
              "      <td>0.353068</td>\n",
              "      <td>0.852500</td>\n",
              "    </tr>\n",
              "    <tr>\n",
              "      <th>11</th>\n",
              "      <td>0.268598</td>\n",
              "      <td>0.883750</td>\n",
              "      <td>0.350080</td>\n",
              "      <td>0.856250</td>\n",
              "    </tr>\n",
              "    <tr>\n",
              "      <th>12</th>\n",
              "      <td>0.262653</td>\n",
              "      <td>0.884531</td>\n",
              "      <td>0.350237</td>\n",
              "      <td>0.853125</td>\n",
              "    </tr>\n",
              "    <tr>\n",
              "      <th>13</th>\n",
              "      <td>0.257405</td>\n",
              "      <td>0.891406</td>\n",
              "      <td>0.348146</td>\n",
              "      <td>0.854375</td>\n",
              "    </tr>\n",
              "    <tr>\n",
              "      <th>14</th>\n",
              "      <td>0.247766</td>\n",
              "      <td>0.893750</td>\n",
              "      <td>0.365955</td>\n",
              "      <td>0.851250</td>\n",
              "    </tr>\n",
              "    <tr>\n",
              "      <th>15</th>\n",
              "      <td>0.241798</td>\n",
              "      <td>0.896406</td>\n",
              "      <td>0.361167</td>\n",
              "      <td>0.849375</td>\n",
              "    </tr>\n",
              "  </tbody>\n",
              "</table>\n",
              "</div>"
            ],
            "text/plain": [
              "        loss  accuracy  val_loss  val_accuracy\n",
              "0   0.445232  0.811562  0.372555      0.845000\n",
              "1   0.366056  0.848906  0.347906      0.856875\n",
              "2   0.341882  0.862031  0.344188      0.856250\n",
              "3   0.329625  0.862344  0.337540      0.856875\n",
              "4   0.318849  0.862656  0.340587      0.858125\n",
              "5   0.308229  0.871406  0.337042      0.855000\n",
              "6   0.301686  0.872969  0.341265      0.860000\n",
              "7   0.294625  0.876094  0.340530      0.852500\n",
              "8   0.287412  0.878438  0.339676      0.856250\n",
              "9   0.281809  0.881875  0.346361      0.858125\n",
              "10  0.273101  0.883281  0.353068      0.852500\n",
              "11  0.268598  0.883750  0.350080      0.856250\n",
              "12  0.262653  0.884531  0.350237      0.853125\n",
              "13  0.257405  0.891406  0.348146      0.854375\n",
              "14  0.247766  0.893750  0.365955      0.851250\n",
              "15  0.241798  0.896406  0.361167      0.849375"
            ]
          },
          "metadata": {
            "tags": []
          },
          "execution_count": 57
        }
      ]
    },
    {
      "cell_type": "code",
      "metadata": {
        "colab": {
          "base_uri": "https://localhost:8080/",
          "height": 312
        },
        "id": "DKti6wcJtgpf",
        "outputId": "10d0654b-fbd4-4e5b-a309-668716cc1753"
      },
      "source": [
        "# list all data in history\r\n",
        "print(history.history.keys())\r\n",
        "# summarize history for accuracy\r\n",
        "plt.plot(history.history['accuracy'])\r\n",
        "plt.plot(history.history['val_accuracy'])\r\n",
        "plt.title('model accuracy')\r\n",
        "plt.ylabel('accuracy')\r\n",
        "plt.xlabel('epoch')\r\n",
        "plt.legend(['train', 'test'], loc='upper left')\r\n",
        "plt.show()"
      ],
      "execution_count": null,
      "outputs": [
        {
          "output_type": "stream",
          "text": [
            "dict_keys(['loss', 'accuracy', 'val_loss', 'val_accuracy'])\n"
          ],
          "name": "stdout"
        },
        {
          "output_type": "display_data",
          "data": {
            "image/png": "[encoded data removed]",
            "text/plain": [
              "<Figure size 432x288 with 1 Axes>"
            ]
          },
          "metadata": {
            "tags": [],
            "needs_background": "light"
          }
        }
      ]
    },
    {
      "cell_type": "code",
      "metadata": {
        "colab": {
          "base_uri": "https://localhost:8080/",
          "height": 295
        },
        "id": "qQ8gs5RQt3vx",
        "outputId": "d32b5ef7-99e6-4bce-af06-097a696d4a81"
      },
      "source": [
        "plt.plot(history.history['loss'])\r\n",
        "plt.plot(history.history['val_loss'])\r\n",
        "plt.title('model loss')\r\n",
        "plt.ylabel('loss')\r\n",
        "plt.xlabel('epoch')\r\n",
        "plt.legend(['train', 'test'], loc='upper left')\r\n",
        "plt.show()"
      ],
      "execution_count": null,
      "outputs": [
        {
          "output_type": "display_data",
          "data": {
            "image/png": "[encoded data removed]",
            "text/plain": [
              "<Figure size 432x288 with 1 Axes>"
            ]
          },
          "metadata": {
            "tags": [],
            "needs_background": "light"
          }
        }
      ]
    },
    {
      "cell_type": "code",
      "metadata": {
        "colab": {
          "base_uri": "https://localhost:8080/"
        },
        "id": "760rIXe3uOfc",
        "outputId": "56f2fe4b-71c4-4974-ab61-c716a740be94"
      },
      "source": [
        "model.evaluate(x_test,y_test)"
      ],
      "execution_count": null,
      "outputs": [
        {
          "output_type": "stream",
          "text": [
            "63/63 [==============================] - 0s 2ms/step - loss: 0.3530 - accuracy: 0.8530\n"
          ],
          "name": "stdout"
        },
        {
          "output_type": "execute_result",
          "data": {
            "text/plain": [
              "[0.3530193269252777, 0.8529999852180481]"
            ]
          },
          "metadata": {
            "tags": []
          },
          "execution_count": 63
        }
      ]
    },
    {
      "cell_type": "code",
      "metadata": {
        "colab": {
          "base_uri": "https://localhost:8080/"
        },
        "id": "meAAOvOcvHup",
        "outputId": "122ea5bb-9de0-41c1-a3cf-cd73dfc8bb5e"
      },
      "source": [
        "y_pred=model.predict(x_test)\r\n",
        "y_pred=(y_pred>0.5)\r\n",
        "y_pred"
      ],
      "execution_count": null,
      "outputs": [
        {
          "output_type": "execute_result",
          "data": {
            "text/plain": [
              "array([[False],\n",
              "       [False],\n",
              "       [False],\n",
              "       ...,\n",
              "       [ True],\n",
              "       [False],\n",
              "       [False]])"
            ]
          },
          "metadata": {
            "tags": []
          },
          "execution_count": 73
        }
      ]
    },
    {
      "cell_type": "code",
      "metadata": {
        "colab": {
          "base_uri": "https://localhost:8080/"
        },
        "id": "vFpBJXwCvjvX",
        "outputId": "a8145528-831b-42a5-b96f-e690d76e955b"
      },
      "source": [
        "from sklearn.metrics import confusion_matrix\r\n",
        "cm=confusion_matrix(y_pred,y_test)\r\n",
        "cm"
      ],
      "execution_count": null,
      "outputs": [
        {
          "output_type": "execute_result",
          "data": {
            "text/plain": [
              "array([[1522,  209],\n",
              "       [  85,  184]])"
            ]
          },
          "metadata": {
            "tags": []
          },
          "execution_count": 74
        }
      ]
    },
    {
      "cell_type": "code",
      "metadata": {
        "colab": {
          "base_uri": "https://localhost:8080/"
        },
        "id": "iYa7xn31wz0x",
        "outputId": "00f30736-83ab-4f03-e2a1-a5d1fb7bad4c"
      },
      "source": [
        "from sklearn.metrics import accuracy_score\r\n",
        "sc=accuracy_score(y_pred,y_test)\r\n",
        "sc"
      ],
      "execution_count": null,
      "outputs": [
        {
          "output_type": "execute_result",
          "data": {
            "text/plain": [
              "0.853"
            ]
          },
          "metadata": {
            "tags": []
          },
          "execution_count": 77
        }
      ]
    },
    {
      "cell_type": "code",
      "metadata": {
        "id": "jUL7cB2lxTzk"
      },
      "source": [
        ""
      ],
      "execution_count": null,
      "outputs": []
    }
  ]
}